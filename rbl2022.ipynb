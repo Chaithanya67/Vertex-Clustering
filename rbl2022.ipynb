{
  "cells": [
    {
      "cell_type": "markdown",
      "metadata": {
        "id": "view-in-github",
        "colab_type": "text"
      },
      "source": [
        "<a href=\"https://colab.research.google.com/github/Chaithanya67/Vertex-Clustering/blob/main/rbl2022.ipynb\" target=\"_parent\"><img src=\"https://colab.research.google.com/assets/colab-badge.svg\" alt=\"Open In Colab\"/></a>"
      ]
    },
    {
      "cell_type": "code",
      "execution_count": 1,
      "metadata": {
        "colab": {
          "base_uri": "https://localhost:8080/"
        },
        "id": "BV0BfQTiaqF9",
        "outputId": "bbc0a8bb-ac2f-439a-be6d-c7c3172f373b"
      },
      "outputs": [
        {
          "output_type": "stream",
          "name": "stdout",
          "text": [
            "Cloning into 'Vertex-Clustering'...\n",
            "remote: Enumerating objects: 33747, done.\u001b[K\n",
            "remote: Counting objects: 100% (397/397), done.\u001b[K\n",
            "remote: Compressing objects: 100% (164/164), done.\u001b[K\n",
            "remote: Total 33747 (delta 239), reused 389 (delta 233), pack-reused 33350\u001b[K\n",
            "Receiving objects: 100% (33747/33747), 87.24 MiB | 23.67 MiB/s, done.\n",
            "Resolving deltas: 100% (33103/33103), done.\n",
            "Checking out files: 100% (22742/22742), done.\n"
          ]
        }
      ],
      "source": [
        "! git clone https://github.com/Progetto-Agiw/Vertex-Clustering"
      ]
    },
    {
      "cell_type": "code",
      "execution_count": 2,
      "metadata": {
        "colab": {
          "base_uri": "https://localhost:8080/"
        },
        "id": "LTHuVVyodAm2",
        "outputId": "04b2dba9-61f8-4531-bc26-439b50c6bc76"
      },
      "outputs": [
        {
          "output_type": "stream",
          "name": "stdout",
          "text": [
            "Looking in indexes: https://pypi.org/simple, https://us-python.pkg.dev/colab-wheels/public/simple/\n",
            "Collecting mmh3\n",
            "  Downloading mmh3-3.0.0-cp37-cp37m-manylinux2010_x86_64.whl (50 kB)\n",
            "\u001b[K     |████████████████████████████████| 50 kB 3.0 MB/s \n",
            "\u001b[?25hInstalling collected packages: mmh3\n",
            "Successfully installed mmh3-3.0.0\n"
          ]
        }
      ],
      "source": [
        "pip install mmh3"
      ]
    },
    {
      "cell_type": "code",
      "execution_count": 3,
      "metadata": {
        "colab": {
          "base_uri": "https://localhost:8080/"
        },
        "id": "elrlGjSXbi9u",
        "outputId": "623d414f-b60a-4416-a8fc-8833fc77ad59"
      },
      "outputs": [
        {
          "output_type": "stream",
          "name": "stdout",
          "text": [
            "usage: main.py <datasets-folder> <dataset> <verbosity> <input-size>\n"
          ]
        }
      ],
      "source": [
        "!python3 /content/Vertex-Clustering/main.py /content/Vertex-Clustering/datasets"
      ]
    },
    {
      "cell_type": "code",
      "execution_count": 5,
      "metadata": {
        "id": "ONhSeNGzdQGm"
      },
      "outputs": [],
      "source": [
        "!/content/Vertex-Clustering/fast_evaluation.sh"
      ]
    },
    {
      "cell_type": "code",
      "execution_count": 6,
      "metadata": {
        "colab": {
          "base_uri": "https://localhost:8080/"
        },
        "id": "RghWJxXrdhP-",
        "outputId": "7d3a5e20-0be4-495d-e0c3-8a140d8d77be"
      },
      "outputs": [
        {
          "output_type": "stream",
          "name": "stdout",
          "text": [
            "E\n",
            "======================================================================\n",
            "ERROR: /content/VertexClustering/tests/testShingleExtractor (unittest.loader._FailedTest)\n",
            "----------------------------------------------------------------------\n",
            "ImportError: Failed to import test module: /content/VertexClustering/tests/testShingleExtractor\n",
            "Traceback (most recent call last):\n",
            "  File \"/usr/lib/python3.7/unittest/loader.py\", line 154, in loadTestsFromName\n",
            "    module = __import__(module_name)\n",
            "ModuleNotFoundError: No module named '/content/VertexClustering/tests/testShingleExtractor'\n",
            "\n",
            "\n",
            "----------------------------------------------------------------------\n",
            "Ran 1 test in 0.000s\n",
            "\n",
            "FAILED (errors=1)\n",
            "E\n",
            "======================================================================\n",
            "ERROR: /content/VertexClustering/tests/testShingleFactory (unittest.loader._FailedTest)\n",
            "----------------------------------------------------------------------\n",
            "ImportError: Failed to import test module: /content/VertexClustering/tests/testShingleFactory\n",
            "Traceback (most recent call last):\n",
            "  File \"/usr/lib/python3.7/unittest/loader.py\", line 154, in loadTestsFromName\n",
            "    module = __import__(module_name)\n",
            "ModuleNotFoundError: No module named '/content/VertexClustering/tests/testShingleFactory'\n",
            "\n",
            "\n",
            "----------------------------------------------------------------------\n",
            "Ran 1 test in 0.000s\n",
            "\n",
            "FAILED (errors=1)\n",
            "E\n",
            "======================================================================\n",
            "ERROR: /content/VertexClustering/tests/testShingleVectorHashEquals (unittest.loader._FailedTest)\n",
            "----------------------------------------------------------------------\n",
            "ImportError: Failed to import test module: /content/VertexClustering/tests/testShingleVectorHashEquals\n",
            "Traceback (most recent call last):\n",
            "  File \"/usr/lib/python3.7/unittest/loader.py\", line 154, in loadTestsFromName\n",
            "    module = __import__(module_name)\n",
            "ModuleNotFoundError: No module named '/content/VertexClustering/tests/testShingleVectorHashEquals'\n",
            "\n",
            "\n",
            "----------------------------------------------------------------------\n",
            "Ran 1 test in 0.000s\n",
            "\n",
            "FAILED (errors=1)\n",
            "E\n",
            "======================================================================\n",
            "ERROR: /content/VertexClustering/tests/test_algoritmo (unittest.loader._FailedTest)\n",
            "----------------------------------------------------------------------\n",
            "ImportError: Failed to import test module: /content/VertexClustering/tests/test_algoritmo\n",
            "Traceback (most recent call last):\n",
            "  File \"/usr/lib/python3.7/unittest/loader.py\", line 154, in loadTestsFromName\n",
            "    module = __import__(module_name)\n",
            "ModuleNotFoundError: No module named '/content/VertexClustering/tests/test_algoritmo'\n",
            "\n",
            "\n",
            "----------------------------------------------------------------------\n",
            "Ran 1 test in 0.000s\n",
            "\n",
            "FAILED (errors=1)\n",
            "E\n",
            "======================================================================\n",
            "ERROR: /content/VertexClustering/tests/test_utils (unittest.loader._FailedTest)\n",
            "----------------------------------------------------------------------\n",
            "ImportError: Failed to import test module: /content/VertexClustering/tests/test_utils\n",
            "Traceback (most recent call last):\n",
            "  File \"/usr/lib/python3.7/unittest/loader.py\", line 154, in loadTestsFromName\n",
            "    module = __import__(module_name)\n",
            "ModuleNotFoundError: No module named '/content/VertexClustering/tests/test_utils'\n",
            "\n",
            "\n",
            "----------------------------------------------------------------------\n",
            "Ran 1 test in 0.000s\n",
            "\n",
            "FAILED (errors=1)\n"
          ]
        }
      ],
      "source": [
        "!python -m unittest /content/VertexClustering/tests/testShingleExtractor.py\n",
        "!python -m unittest /content/VertexClustering/tests/testShingleFactory.py\n",
        "!python -m unittest /content/VertexClustering/tests/testShingleVectorHashEquals.py\n",
        "!python -m unittest /content/VertexClustering/tests/test_algoritmo.py\n",
        "!python -m unittest /content/VertexClustering/tests/test_utils.py"
      ]
    }
  ],
  "metadata": {
    "colab": {
      "collapsed_sections": [],
      "name": "rbl2022.ipynb",
      "provenance": [],
      "authorship_tag": "ABX9TyNa6UKKqFW2rsdBR0+1IzfN",
      "include_colab_link": true
    },
    "kernelspec": {
      "display_name": "Python 3",
      "name": "python3"
    },
    "language_info": {
      "name": "python"
    }
  },
  "nbformat": 4,
  "nbformat_minor": 0
}